{
 "cells": [
  {
   "cell_type": "markdown",
   "metadata": {},
   "source": [
    "# Machine Learning Project on Github Issues\n",
    "+ Github Issue Classification\n",
    "+ Predicting if Github Issue is a Bug,Enhancement,Question or Docs,etc.\n",
    "+ Data Source\n",
    "+ https://tickettagger.blob.core.windows.net/datasets/dataset-labels-top3-30k-real.txt\n",
    "+ https://gist.githubusercontent.com/rafaelkallis/6aa281b00d73d77fc843bd34f8184854/raw/8c10ebf2fd6f937f8\n",
    "+ https://github.com/dotnet/samples/tree/main/machine-learning/tutorials/GitHubIssueClassification/Data\n",
    "+ Credits & Derivative Work\n",
    "+ httpsBEE, Yang Song and Oscar Chaparro\n",
    "+ Tim Moser, David Steiger, Christian Birchler, Lara Fried, Sebastiano Panichella, Rafael Kallis"
   ]
  },
  {
   "cell_type": "code",
   "execution_count": null,
   "metadata": {},
   "outputs": [],
   "source": []
  }
 ],
 "metadata": {
  "language_info": {
   "name": "python"
  },
  "orig_nbformat": 4
 },
 "nbformat": 4,
 "nbformat_minor": 2
}
